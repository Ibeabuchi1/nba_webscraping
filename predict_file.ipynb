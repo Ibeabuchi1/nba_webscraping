{
 "cells": [
  {
   "cell_type": "code",
   "execution_count": 2,
   "id": "c432f905",
   "metadata": {},
   "outputs": [],
   "source": [
    "import pandas as pd\n",
    "from sklearn.linear_model import Ridge\n",
    "from sklearn.metrics import mean_squared_error\n",
    "import numpy as np"
   ]
  },
  {
   "cell_type": "code",
   "execution_count": 3,
   "id": "30e613af",
   "metadata": {
    "scrolled": true
   },
   "outputs": [
    {
     "data": {
      "text/html": [
       "<div>\n",
       "<style scoped>\n",
       "    .dataframe tbody tr th:only-of-type {\n",
       "        vertical-align: middle;\n",
       "    }\n",
       "\n",
       "    .dataframe tbody tr th {\n",
       "        vertical-align: top;\n",
       "    }\n",
       "\n",
       "    .dataframe thead th {\n",
       "        text-align: right;\n",
       "    }\n",
       "</style>\n",
       "<table border=\"1\" class=\"dataframe\">\n",
       "  <thead>\n",
       "    <tr style=\"text-align: right;\">\n",
       "      <th></th>\n",
       "      <th>player</th>\n",
       "      <th>pos</th>\n",
       "      <th>age</th>\n",
       "      <th>tm</th>\n",
       "      <th>g</th>\n",
       "      <th>gs</th>\n",
       "      <th>mp</th>\n",
       "      <th>fg</th>\n",
       "      <th>fga</th>\n",
       "      <th>fg%</th>\n",
       "      <th>...</th>\n",
       "      <th>pts_max</th>\n",
       "      <th>share</th>\n",
       "      <th>team</th>\n",
       "      <th>w</th>\n",
       "      <th>l</th>\n",
       "      <th>w/l%</th>\n",
       "      <th>gb</th>\n",
       "      <th>ps/g</th>\n",
       "      <th>pa/g</th>\n",
       "      <th>srs</th>\n",
       "    </tr>\n",
       "  </thead>\n",
       "  <tbody>\n",
       "    <tr>\n",
       "      <th>0</th>\n",
       "      <td>a.c. green</td>\n",
       "      <td>PF</td>\n",
       "      <td>27</td>\n",
       "      <td>lal</td>\n",
       "      <td>82</td>\n",
       "      <td>21</td>\n",
       "      <td>26.4</td>\n",
       "      <td>3.1</td>\n",
       "      <td>6.6</td>\n",
       "      <td>0.476</td>\n",
       "      <td>...</td>\n",
       "      <td>0.0</td>\n",
       "      <td>0.000</td>\n",
       "      <td>los angeles lakers</td>\n",
       "      <td>58</td>\n",
       "      <td>24</td>\n",
       "      <td>0.707</td>\n",
       "      <td>5.0</td>\n",
       "      <td>106.3</td>\n",
       "      <td>99.6</td>\n",
       "      <td>6.73</td>\n",
       "    </tr>\n",
       "    <tr>\n",
       "      <th>1</th>\n",
       "      <td>byron scott</td>\n",
       "      <td>SG</td>\n",
       "      <td>29</td>\n",
       "      <td>lal</td>\n",
       "      <td>82</td>\n",
       "      <td>82</td>\n",
       "      <td>32.1</td>\n",
       "      <td>6.1</td>\n",
       "      <td>12.8</td>\n",
       "      <td>0.477</td>\n",
       "      <td>...</td>\n",
       "      <td>0.0</td>\n",
       "      <td>0.000</td>\n",
       "      <td>los angeles lakers</td>\n",
       "      <td>58</td>\n",
       "      <td>24</td>\n",
       "      <td>0.707</td>\n",
       "      <td>5.0</td>\n",
       "      <td>106.3</td>\n",
       "      <td>99.6</td>\n",
       "      <td>6.73</td>\n",
       "    </tr>\n",
       "    <tr>\n",
       "      <th>2</th>\n",
       "      <td>james worthy</td>\n",
       "      <td>SF</td>\n",
       "      <td>29</td>\n",
       "      <td>lal</td>\n",
       "      <td>78</td>\n",
       "      <td>74</td>\n",
       "      <td>38.6</td>\n",
       "      <td>9.2</td>\n",
       "      <td>18.7</td>\n",
       "      <td>0.492</td>\n",
       "      <td>...</td>\n",
       "      <td>0.0</td>\n",
       "      <td>0.000</td>\n",
       "      <td>los angeles lakers</td>\n",
       "      <td>58</td>\n",
       "      <td>24</td>\n",
       "      <td>0.707</td>\n",
       "      <td>5.0</td>\n",
       "      <td>106.3</td>\n",
       "      <td>99.6</td>\n",
       "      <td>6.73</td>\n",
       "    </tr>\n",
       "    <tr>\n",
       "      <th>3</th>\n",
       "      <td>larry drew</td>\n",
       "      <td>PG</td>\n",
       "      <td>32</td>\n",
       "      <td>lal</td>\n",
       "      <td>48</td>\n",
       "      <td>2</td>\n",
       "      <td>10.3</td>\n",
       "      <td>1.1</td>\n",
       "      <td>2.6</td>\n",
       "      <td>0.432</td>\n",
       "      <td>...</td>\n",
       "      <td>0.0</td>\n",
       "      <td>0.000</td>\n",
       "      <td>los angeles lakers</td>\n",
       "      <td>58</td>\n",
       "      <td>24</td>\n",
       "      <td>0.707</td>\n",
       "      <td>5.0</td>\n",
       "      <td>106.3</td>\n",
       "      <td>99.6</td>\n",
       "      <td>6.73</td>\n",
       "    </tr>\n",
       "    <tr>\n",
       "      <th>4</th>\n",
       "      <td>magic johnson</td>\n",
       "      <td>PG</td>\n",
       "      <td>31</td>\n",
       "      <td>lal</td>\n",
       "      <td>79</td>\n",
       "      <td>79</td>\n",
       "      <td>37.1</td>\n",
       "      <td>5.9</td>\n",
       "      <td>12.4</td>\n",
       "      <td>0.477</td>\n",
       "      <td>...</td>\n",
       "      <td>960.0</td>\n",
       "      <td>0.518</td>\n",
       "      <td>los angeles lakers</td>\n",
       "      <td>58</td>\n",
       "      <td>24</td>\n",
       "      <td>0.707</td>\n",
       "      <td>5.0</td>\n",
       "      <td>106.3</td>\n",
       "      <td>99.6</td>\n",
       "      <td>6.73</td>\n",
       "    </tr>\n",
       "  </tbody>\n",
       "</table>\n",
       "<p>5 rows × 41 columns</p>\n",
       "</div>"
      ],
      "text/plain": [
       "          player pos  age   tm   g  gs    mp   fg   fga    fg%  ...  pts_max  \\\n",
       "0     a.c. green  PF   27  lal  82  21  26.4  3.1   6.6  0.476  ...      0.0   \n",
       "1    byron scott  SG   29  lal  82  82  32.1  6.1  12.8  0.477  ...      0.0   \n",
       "2   james worthy  SF   29  lal  78  74  38.6  9.2  18.7  0.492  ...      0.0   \n",
       "3     larry drew  PG   32  lal  48   2  10.3  1.1   2.6  0.432  ...      0.0   \n",
       "4  magic johnson  PG   31  lal  79  79  37.1  5.9  12.4  0.477  ...    960.0   \n",
       "\n",
       "   share                team   w   l   w/l%   gb   ps/g  pa/g   srs  \n",
       "0  0.000  los angeles lakers  58  24  0.707  5.0  106.3  99.6  6.73  \n",
       "1  0.000  los angeles lakers  58  24  0.707  5.0  106.3  99.6  6.73  \n",
       "2  0.000  los angeles lakers  58  24  0.707  5.0  106.3  99.6  6.73  \n",
       "3  0.000  los angeles lakers  58  24  0.707  5.0  106.3  99.6  6.73  \n",
       "4  0.518  los angeles lakers  58  24  0.707  5.0  106.3  99.6  6.73  \n",
       "\n",
       "[5 rows x 41 columns]"
      ]
     },
     "execution_count": 3,
     "metadata": {},
     "output_type": "execute_result"
    }
   ],
   "source": [
    "df = pd.read_csv('csvs/player_stats.csv')\n",
    "del df['Unnamed: 0']\n",
    "df.head()"
   ]
  },
  {
   "cell_type": "code",
   "execution_count": 17,
   "id": "4495cefa",
   "metadata": {},
   "outputs": [],
   "source": [
    "predictors = ['age', 'g', 'gs', 'mp', 'fg', 'fga', 'fg%', '3p',\n",
    "       '3pa', '3p%', '2p', '2pa', '2p%', 'efg%', 'ft', 'fta', 'ft%', 'orb',\n",
    "       'drb', 'trb', 'ast', 'stl', 'blk', 'tov', 'pf', 'pts', 'year', 'w', 'l', 'w/l%', 'gb', 'ps/g',\n",
    "       'pa/g', 'srs']\n",
    "\n",
    "df['gb'] = pd.to_numeric(df['gb'].replace('—', 0))\n",
    "\n",
    "train = df[df['year'] < 2020]\n",
    "test = df[df['year'] == 2020]\n",
    "\n",
    "rdg = Ridge(alpha=0.1)\n",
    "rdg.fit(train[predictors], train['share'])\n",
    "\n",
    "predictions = rdg.predict(test[predictors])\n",
    "\n",
    "predictions = pd.DataFrame(predictions, columns=['predictions'], index=test.index)\n",
    "\n",
    "combination = pd.concat([test[['player', 'share', 'year']], predictions], axis=1)\n",
    "combination = combination.sort_values('share', ascending=False)\n",
    "combination['rk'] = list(range(1, len(combination) + 1))\n",
    "\n",
    "combination = combination.sort_values('predictions', ascending=False)\n",
    "combination['predicted_rk'] = list(range(1, len(combination) + 1))"
   ]
  },
  {
   "cell_type": "code",
   "execution_count": 1,
   "id": "8a79705a",
   "metadata": {},
   "outputs": [],
   "source": [
    "def find_ap(df):\n",
    "    actual = combination.sort_values('share', ascending=False).head(5)\n",
    "    predicted = combination.sort_values('predictions', ascending=False)\n",
    "    ps = []\n",
    "    found = 0\n",
    "    seen = 1\n",
    "    \n",
    "    for index, row in predicted.iterrows():\n",
    "        if row['player'] in actual['player'].values:\n",
    "            found += 1\n",
    "            ps.append(found/seen)\n",
    "        seen += 1\n",
    "    return sum(ps) / len(ps)"
   ]
  },
  {
   "cell_type": "code",
   "execution_count": 19,
   "id": "d4162feb",
   "metadata": {},
   "outputs": [
    {
     "data": {
      "text/plain": [
       "0.9428571428571428"
      ]
     },
     "execution_count": 19,
     "metadata": {},
     "output_type": "execute_result"
    }
   ],
   "source": [
    "find_ap(combination)"
   ]
  },
  {
   "cell_type": "code",
   "execution_count": 20,
   "id": "c71532f3",
   "metadata": {},
   "outputs": [],
   "source": [
    "years = list(range(1991, 2021))"
   ]
  },
  {
   "cell_type": "code",
   "execution_count": 48,
   "id": "750c915e",
   "metadata": {},
   "outputs": [],
   "source": [
    "aps = []\n",
    "all_prediction = []\n",
    "\n",
    "for year in years[5:]:\n",
    "    train = df[df['year'] < year ]\n",
    "    test = df[df['year'] == year]\n",
    "    rdg.fit(train[predictors], train['share'])\n",
    "    y_pred = rdg.predict(test[predictors])\n",
    "    y_pred = pd.DataFrame(y_pred, columns=['predictions'], index=test.index)\n",
    "    combination = pd.concat([test[['player', 'share', 'year']], y_pred], axis=1)\n",
    "    all_prediction.append(combination)\n",
    "    aps.append(find_ap(combination))"
   ]
  },
  {
   "cell_type": "code",
   "execution_count": 49,
   "id": "49149901",
   "metadata": {},
   "outputs": [
    {
     "data": {
      "text/plain": [
       "0.7110422205931348"
      ]
     },
     "execution_count": 49,
     "metadata": {},
     "output_type": "execute_result"
    }
   ],
   "source": [
    "sum(aps) / len(aps)"
   ]
  },
  {
   "cell_type": "code",
   "execution_count": 50,
   "id": "67d53a25",
   "metadata": {},
   "outputs": [
    {
     "data": {
      "text/html": [
       "<div>\n",
       "<style scoped>\n",
       "    .dataframe tbody tr th:only-of-type {\n",
       "        vertical-align: middle;\n",
       "    }\n",
       "\n",
       "    .dataframe tbody tr th {\n",
       "        vertical-align: top;\n",
       "    }\n",
       "\n",
       "    .dataframe thead th {\n",
       "        text-align: right;\n",
       "    }\n",
       "</style>\n",
       "<table border=\"1\" class=\"dataframe\">\n",
       "  <thead>\n",
       "    <tr style=\"text-align: right;\">\n",
       "      <th></th>\n",
       "      <th>player</th>\n",
       "      <th>share</th>\n",
       "      <th>year</th>\n",
       "      <th>predictions</th>\n",
       "    </tr>\n",
       "  </thead>\n",
       "  <tbody>\n",
       "    <tr>\n",
       "      <th>596</th>\n",
       "      <td>aaron gordon</td>\n",
       "      <td>0.0</td>\n",
       "      <td>2020</td>\n",
       "      <td>0.019887</td>\n",
       "    </tr>\n",
       "    <tr>\n",
       "      <th>597</th>\n",
       "      <td>al-farouq aminu</td>\n",
       "      <td>0.0</td>\n",
       "      <td>2020</td>\n",
       "      <td>-0.028127</td>\n",
       "    </tr>\n",
       "    <tr>\n",
       "      <th>598</th>\n",
       "      <td>b.j. johnson</td>\n",
       "      <td>0.0</td>\n",
       "      <td>2020</td>\n",
       "      <td>-0.014142</td>\n",
       "    </tr>\n",
       "    <tr>\n",
       "      <th>599</th>\n",
       "      <td>d.j. augustin</td>\n",
       "      <td>0.0</td>\n",
       "      <td>2020</td>\n",
       "      <td>0.008575</td>\n",
       "    </tr>\n",
       "    <tr>\n",
       "      <th>600</th>\n",
       "      <td>evan fournier</td>\n",
       "      <td>0.0</td>\n",
       "      <td>2020</td>\n",
       "      <td>0.029770</td>\n",
       "    </tr>\n",
       "    <tr>\n",
       "      <th>...</th>\n",
       "      <td>...</td>\n",
       "      <td>...</td>\n",
       "      <td>...</td>\n",
       "      <td>...</td>\n",
       "    </tr>\n",
       "    <tr>\n",
       "      <th>12627</th>\n",
       "      <td>rondae hollis-jefferson</td>\n",
       "      <td>0.0</td>\n",
       "      <td>2020</td>\n",
       "      <td>0.004633</td>\n",
       "    </tr>\n",
       "    <tr>\n",
       "      <th>12628</th>\n",
       "      <td>serge ibaka</td>\n",
       "      <td>0.0</td>\n",
       "      <td>2020</td>\n",
       "      <td>0.038976</td>\n",
       "    </tr>\n",
       "    <tr>\n",
       "      <th>12629</th>\n",
       "      <td>shamorie ponds</td>\n",
       "      <td>0.0</td>\n",
       "      <td>2020</td>\n",
       "      <td>0.007462</td>\n",
       "    </tr>\n",
       "    <tr>\n",
       "      <th>12630</th>\n",
       "      <td>stanley johnson</td>\n",
       "      <td>0.0</td>\n",
       "      <td>2020</td>\n",
       "      <td>0.009776</td>\n",
       "    </tr>\n",
       "    <tr>\n",
       "      <th>12631</th>\n",
       "      <td>terence davis</td>\n",
       "      <td>0.0</td>\n",
       "      <td>2020</td>\n",
       "      <td>0.009653</td>\n",
       "    </tr>\n",
       "  </tbody>\n",
       "</table>\n",
       "<p>528 rows × 4 columns</p>\n",
       "</div>"
      ],
      "text/plain": [
       "                        player  share  year  predictions\n",
       "596               aaron gordon    0.0  2020     0.019887\n",
       "597            al-farouq aminu    0.0  2020    -0.028127\n",
       "598               b.j. johnson    0.0  2020    -0.014142\n",
       "599              d.j. augustin    0.0  2020     0.008575\n",
       "600              evan fournier    0.0  2020     0.029770\n",
       "...                        ...    ...   ...          ...\n",
       "12627  rondae hollis-jefferson    0.0  2020     0.004633\n",
       "12628              serge ibaka    0.0  2020     0.038976\n",
       "12629           shamorie ponds    0.0  2020     0.007462\n",
       "12630          stanley johnson    0.0  2020     0.009776\n",
       "12631            terence davis    0.0  2020     0.009653\n",
       "\n",
       "[528 rows x 4 columns]"
      ]
     },
     "execution_count": 50,
     "metadata": {},
     "output_type": "execute_result"
    }
   ],
   "source": [
    "combination "
   ]
  },
  {
   "cell_type": "code",
   "execution_count": 45,
   "id": "46bcace6",
   "metadata": {
    "collapsed": true
   },
   "outputs": [
    {
     "data": {
      "text/plain": [
       "[0.39584675975653416,\n",
       " 0.7733333333333333,\n",
       " 0.386993006993007,\n",
       " 0.8392857142857142,\n",
       " 0.9266666666666665,\n",
       " 0.6815270935960591,\n",
       " 0.9666666666666666,\n",
       " 0.6928571428571428,\n",
       " 0.5644444444444445,\n",
       " 0.4003208556149732,\n",
       " 0.6676190476190477,\n",
       " 0.9428571428571428,\n",
       " 0.75,\n",
       " 0.8253968253968254,\n",
       " 0.7253968253968253,\n",
       " 0.4323717948717949,\n",
       " 0.6976190476190476,\n",
       " 0.6327838827838828,\n",
       " 0.9266666666666665,\n",
       " 0.8333333333333333,\n",
       " 0.7611111111111111,\n",
       " 0.7909090909090909,\n",
       " 0.6375757575757576,\n",
       " 0.9428571428571428]"
      ]
     },
     "execution_count": 45,
     "metadata": {},
     "output_type": "execute_result"
    }
   ],
   "source": [
    "aps"
   ]
  },
  {
   "cell_type": "code",
   "execution_count": 36,
   "id": "ba265c8f",
   "metadata": {},
   "outputs": [],
   "source": [
    "def add_rank(combination):\n",
    "    combination = combination.sort_values('predictions', ascending=False)\n",
    "    combination['predicted_rk'] = list(range(1, len(combination) + 1))\n",
    "    combination = combination.sort_values('share', ascending=False)\n",
    "    combination['rk'] = list(range(1, len(combination) + 1))\n",
    "    combination['diff'] = combination['rk'] - combination['predicted_rk']\n",
    "    return combination"
   ]
  },
  {
   "cell_type": "code",
   "execution_count": 47,
   "id": "bb6c021f",
   "metadata": {},
   "outputs": [
    {
     "data": {
      "text/html": [
       "<div>\n",
       "<style scoped>\n",
       "    .dataframe tbody tr th:only-of-type {\n",
       "        vertical-align: middle;\n",
       "    }\n",
       "\n",
       "    .dataframe tbody tr th {\n",
       "        vertical-align: top;\n",
       "    }\n",
       "\n",
       "    .dataframe thead th {\n",
       "        text-align: right;\n",
       "    }\n",
       "</style>\n",
       "<table border=\"1\" class=\"dataframe\">\n",
       "  <thead>\n",
       "    <tr style=\"text-align: right;\">\n",
       "      <th></th>\n",
       "      <th>player</th>\n",
       "      <th>share</th>\n",
       "      <th>predictions</th>\n",
       "      <th>predicted_rk</th>\n",
       "      <th>rk</th>\n",
       "      <th>diff</th>\n",
       "    </tr>\n",
       "  </thead>\n",
       "  <tbody>\n",
       "    <tr>\n",
       "      <th>1475</th>\n",
       "      <td>karl malone</td>\n",
       "      <td>0.857</td>\n",
       "      <td>0.195454</td>\n",
       "      <td>2</td>\n",
       "      <td>1</td>\n",
       "      <td>-1</td>\n",
       "    </tr>\n",
       "    <tr>\n",
       "      <th>10041</th>\n",
       "      <td>michael jordan</td>\n",
       "      <td>0.832</td>\n",
       "      <td>0.172254</td>\n",
       "      <td>3</td>\n",
       "      <td>2</td>\n",
       "      <td>-1</td>\n",
       "    </tr>\n",
       "    <tr>\n",
       "      <th>851</th>\n",
       "      <td>grant hill</td>\n",
       "      <td>0.327</td>\n",
       "      <td>0.130560</td>\n",
       "      <td>6</td>\n",
       "      <td>3</td>\n",
       "      <td>-3</td>\n",
       "    </tr>\n",
       "    <tr>\n",
       "      <th>4379</th>\n",
       "      <td>tim hardaway</td>\n",
       "      <td>0.207</td>\n",
       "      <td>0.060021</td>\n",
       "      <td>19</td>\n",
       "      <td>4</td>\n",
       "      <td>-15</td>\n",
       "    </tr>\n",
       "    <tr>\n",
       "      <th>7496</th>\n",
       "      <td>glen rice</td>\n",
       "      <td>0.117</td>\n",
       "      <td>0.035304</td>\n",
       "      <td>49</td>\n",
       "      <td>5</td>\n",
       "      <td>-44</td>\n",
       "    </tr>\n",
       "  </tbody>\n",
       "</table>\n",
       "</div>"
      ],
      "text/plain": [
       "               player  share  predictions  predicted_rk  rk  diff\n",
       "1475      karl malone  0.857     0.195454             2   1    -1\n",
       "10041  michael jordan  0.832     0.172254             3   2    -1\n",
       "851        grant hill  0.327     0.130560             6   3    -3\n",
       "4379     tim hardaway  0.207     0.060021            19   4   -15\n",
       "7496        glen rice  0.117     0.035304            49   5   -44"
      ]
     },
     "execution_count": 47,
     "metadata": {},
     "output_type": "execute_result"
    }
   ],
   "source": [
    "ranking = add_rank(all_prediction[1])\n",
    "ranking[ranking['rk'] < 6].sort_values('diff', ascending=False)"
   ]
  },
  {
   "cell_type": "code",
   "execution_count": 145,
   "id": "be53acf3",
   "metadata": {},
   "outputs": [],
   "source": [
    "def backtest(df, model, year, predictors):\n",
    "    aps = []\n",
    "    all_predictions = []\n",
    "\n",
    "    for year in years[5:]:\n",
    "        train = df[df['year'] < year ]\n",
    "        test = df[df['year'] == year]\n",
    "        model.fit(train[predictors], train['share'])\n",
    "        y_pred = model.predict(test[predictors])\n",
    "        y_pred = pd.DataFrame(y_pred, columns=['predictions'], index=test.index)\n",
    "        new_df = pd.concat([test[['player', 'share']], y_pred], axis=1)\n",
    "        new_df = add_rank(new_df)\n",
    "        all_predictions.append(new_df)\n",
    "        aps.append(find_ap(new_df))\n",
    "        \n",
    "    return sum(aps)/len(aps), aps, pd.concat(all_prediction)\n",
    "#     return pd.concat(all_predictions)"
   ]
  },
  {
   "cell_type": "code",
   "execution_count": 150,
   "id": "f9ee0640",
   "metadata": {},
   "outputs": [],
   "source": [
    "mean_ap, aps, all_pred = backtest(df, rdg, years[5:], predictors)"
   ]
  },
  {
   "cell_type": "code",
   "execution_count": 152,
   "id": "afabdebc",
   "metadata": {},
   "outputs": [
    {
     "data": {
      "text/plain": [
       "[0.9428571428571428,\n",
       " 0.9428571428571428,\n",
       " 0.9428571428571428,\n",
       " 0.9428571428571428,\n",
       " 0.9428571428571428,\n",
       " 0.9428571428571428,\n",
       " 0.9428571428571428,\n",
       " 0.9428571428571428,\n",
       " 0.9428571428571428,\n",
       " 0.9428571428571428,\n",
       " 0.9428571428571428,\n",
       " 0.9428571428571428,\n",
       " 0.9428571428571428,\n",
       " 0.9428571428571428,\n",
       " 0.9428571428571428,\n",
       " 0.9428571428571428,\n",
       " 0.9428571428571428,\n",
       " 0.9428571428571428,\n",
       " 0.9428571428571428,\n",
       " 0.9428571428571428,\n",
       " 0.9428571428571428,\n",
       " 0.9428571428571428,\n",
       " 0.9428571428571428,\n",
       " 0.9428571428571428,\n",
       " 0.9428571428571428]"
      ]
     },
     "execution_count": 152,
     "metadata": {},
     "output_type": "execute_result"
    }
   ],
   "source": [
    "aps"
   ]
  },
  {
   "cell_type": "code",
   "execution_count": 172,
   "id": "696e4465",
   "metadata": {},
   "outputs": [],
   "source": [
    "def backtest(df, model, year, predictors):\n",
    "    aps = []\n",
    "    all_prediction = []\n",
    "\n",
    "    for year in years[5:]:\n",
    "        train = df[df['year'] < year ]\n",
    "        test = df[df['year'] == year]\n",
    "        rdg.fit(train[predictors], train['share'])\n",
    "        y_pred = rdg.predict(test[predictors])\n",
    "        y_pred = pd.DataFrame(y_pred, columns=['predictions'], index=test.index)\n",
    "        combination = pd.concat([test[['player', 'share']], y_pred], axis=1)\n",
    "        all_prediction.append(combination)\n",
    "        aps.append(find_ap(combination))\n",
    "\n",
    "#     return sum(aps)/len(aps), aps, pd.concat(all_prediction)\n",
    "    return train"
   ]
  },
  {
   "cell_type": "code",
   "execution_count": 173,
   "id": "1ba5f0c8",
   "metadata": {
    "scrolled": false
   },
   "outputs": [],
   "source": [
    "aps = backtest(df, rdg, years[5:], predictors)"
   ]
  },
  {
   "cell_type": "code",
   "execution_count": 176,
   "id": "197e9f5e",
   "metadata": {},
   "outputs": [
    {
     "data": {
      "text/plain": [
       "array([1991, 1992, 1993, 1994, 1995, 1996, 1997, 1998, 1999, 2000, 2001,\n",
       "       2002, 2003, 2017, 2010, 2011, 2012, 2013, 2014, 2015, 2008, 2009,\n",
       "       2016, 2018, 2019, 2004, 2005, 2006, 2007], dtype=int64)"
      ]
     },
     "execution_count": 176,
     "metadata": {},
     "output_type": "execute_result"
    }
   ],
   "source": [
    "aps['year'].unique()"
   ]
  },
  {
   "cell_type": "code",
   "execution_count": 157,
   "id": "9ea7f726",
   "metadata": {},
   "outputs": [],
   "source": [
    "aps = []\n",
    "all_prediction = []\n",
    "\n",
    "for year in years[5:]:\n",
    "    train = df[df['year'] < year ]\n",
    "    test = df[df['year'] == year]\n",
    "    rdg.fit(train[predictors], train['share'])\n",
    "    y_pred = rdg.predict(test[predictors])\n",
    "    y_pred = pd.DataFrame(y_pred, columns=['predictions'], index=test.index)\n",
    "    combination = pd.concat([test[['player', 'share']], y_pred], axis=1)\n",
    "    all_prediction.append(combination)\n",
    "    aps.append(find_ap(combination))"
   ]
  },
  {
   "cell_type": "code",
   "execution_count": 138,
   "id": "fa08aae8",
   "metadata": {},
   "outputs": [
    {
     "data": {
      "text/plain": [
       "0.7110422205931348"
      ]
     },
     "execution_count": 138,
     "metadata": {},
     "output_type": "execute_result"
    }
   ],
   "source": [
    "sum(aps)/len(aps)"
   ]
  },
  {
   "cell_type": "code",
   "execution_count": null,
   "id": "9842ec2a",
   "metadata": {},
   "outputs": [],
   "source": []
  }
 ],
 "metadata": {
  "kernelspec": {
   "display_name": "Python 3 (ipykernel)",
   "language": "python",
   "name": "python3"
  },
  "language_info": {
   "codemirror_mode": {
    "name": "ipython",
    "version": 3
   },
   "file_extension": ".py",
   "mimetype": "text/x-python",
   "name": "python",
   "nbconvert_exporter": "python",
   "pygments_lexer": "ipython3",
   "version": "3.9.6"
  }
 },
 "nbformat": 4,
 "nbformat_minor": 5
}

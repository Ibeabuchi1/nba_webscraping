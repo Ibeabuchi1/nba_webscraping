{
 "cells": [
  {
   "cell_type": "code",
   "execution_count": 1,
   "id": "c432f905",
   "metadata": {},
   "outputs": [],
   "source": [
    "import pandas as pd\n",
    "from sklearn.linear_model import Ridge\n",
    "from sklearn.metrics import mean_squared_error\n",
    "import numpy as np"
   ]
  },
  {
   "cell_type": "code",
   "execution_count": 2,
   "id": "30e613af",
   "metadata": {},
   "outputs": [
    {
     "data": {
      "text/html": [
       "<div>\n",
       "<style scoped>\n",
       "    .dataframe tbody tr th:only-of-type {\n",
       "        vertical-align: middle;\n",
       "    }\n",
       "\n",
       "    .dataframe tbody tr th {\n",
       "        vertical-align: top;\n",
       "    }\n",
       "\n",
       "    .dataframe thead th {\n",
       "        text-align: right;\n",
       "    }\n",
       "</style>\n",
       "<table border=\"1\" class=\"dataframe\">\n",
       "  <thead>\n",
       "    <tr style=\"text-align: right;\">\n",
       "      <th></th>\n",
       "      <th>Unnamed: 0</th>\n",
       "      <th>player</th>\n",
       "      <th>pos</th>\n",
       "      <th>age</th>\n",
       "      <th>tm</th>\n",
       "      <th>g</th>\n",
       "      <th>gs</th>\n",
       "      <th>mp</th>\n",
       "      <th>fg</th>\n",
       "      <th>fga</th>\n",
       "      <th>...</th>\n",
       "      <th>pts_max</th>\n",
       "      <th>share</th>\n",
       "      <th>team</th>\n",
       "      <th>w</th>\n",
       "      <th>l</th>\n",
       "      <th>w/l%</th>\n",
       "      <th>gb</th>\n",
       "      <th>ps/g</th>\n",
       "      <th>pa/g</th>\n",
       "      <th>srs</th>\n",
       "    </tr>\n",
       "  </thead>\n",
       "  <tbody>\n",
       "    <tr>\n",
       "      <th>0</th>\n",
       "      <td>0</td>\n",
       "      <td>a.c. green</td>\n",
       "      <td>pf</td>\n",
       "      <td>27</td>\n",
       "      <td>lal</td>\n",
       "      <td>82</td>\n",
       "      <td>21</td>\n",
       "      <td>26.4</td>\n",
       "      <td>3.1</td>\n",
       "      <td>6.6</td>\n",
       "      <td>...</td>\n",
       "      <td>0.0</td>\n",
       "      <td>0.0</td>\n",
       "      <td>los angeles lakers</td>\n",
       "      <td>58.0</td>\n",
       "      <td>24.0</td>\n",
       "      <td>0.707</td>\n",
       "      <td>5.0</td>\n",
       "      <td>106.3</td>\n",
       "      <td>99.6</td>\n",
       "      <td>6.73</td>\n",
       "    </tr>\n",
       "    <tr>\n",
       "      <th>1</th>\n",
       "      <td>1</td>\n",
       "      <td>byron scott</td>\n",
       "      <td>sg</td>\n",
       "      <td>29</td>\n",
       "      <td>lal</td>\n",
       "      <td>82</td>\n",
       "      <td>82</td>\n",
       "      <td>32.1</td>\n",
       "      <td>6.1</td>\n",
       "      <td>12.8</td>\n",
       "      <td>...</td>\n",
       "      <td>0.0</td>\n",
       "      <td>0.0</td>\n",
       "      <td>los angeles lakers</td>\n",
       "      <td>58.0</td>\n",
       "      <td>24.0</td>\n",
       "      <td>0.707</td>\n",
       "      <td>5.0</td>\n",
       "      <td>106.3</td>\n",
       "      <td>99.6</td>\n",
       "      <td>6.73</td>\n",
       "    </tr>\n",
       "    <tr>\n",
       "      <th>2</th>\n",
       "      <td>2</td>\n",
       "      <td>elden campbell</td>\n",
       "      <td>pf</td>\n",
       "      <td>22</td>\n",
       "      <td>lal</td>\n",
       "      <td>52</td>\n",
       "      <td>0</td>\n",
       "      <td>7.3</td>\n",
       "      <td>1.1</td>\n",
       "      <td>2.4</td>\n",
       "      <td>...</td>\n",
       "      <td>0.0</td>\n",
       "      <td>0.0</td>\n",
       "      <td>los angeles lakers</td>\n",
       "      <td>58.0</td>\n",
       "      <td>24.0</td>\n",
       "      <td>0.707</td>\n",
       "      <td>5.0</td>\n",
       "      <td>106.3</td>\n",
       "      <td>99.6</td>\n",
       "      <td>6.73</td>\n",
       "    </tr>\n",
       "    <tr>\n",
       "      <th>3</th>\n",
       "      <td>3</td>\n",
       "      <td>irving thomas</td>\n",
       "      <td>pf</td>\n",
       "      <td>25</td>\n",
       "      <td>lal</td>\n",
       "      <td>26</td>\n",
       "      <td>0</td>\n",
       "      <td>4.2</td>\n",
       "      <td>0.7</td>\n",
       "      <td>1.9</td>\n",
       "      <td>...</td>\n",
       "      <td>0.0</td>\n",
       "      <td>0.0</td>\n",
       "      <td>los angeles lakers</td>\n",
       "      <td>58.0</td>\n",
       "      <td>24.0</td>\n",
       "      <td>0.707</td>\n",
       "      <td>5.0</td>\n",
       "      <td>106.3</td>\n",
       "      <td>99.6</td>\n",
       "      <td>6.73</td>\n",
       "    </tr>\n",
       "    <tr>\n",
       "      <th>4</th>\n",
       "      <td>4</td>\n",
       "      <td>james worthy</td>\n",
       "      <td>sf</td>\n",
       "      <td>29</td>\n",
       "      <td>lal</td>\n",
       "      <td>78</td>\n",
       "      <td>74</td>\n",
       "      <td>38.6</td>\n",
       "      <td>9.2</td>\n",
       "      <td>18.7</td>\n",
       "      <td>...</td>\n",
       "      <td>0.0</td>\n",
       "      <td>0.0</td>\n",
       "      <td>los angeles lakers</td>\n",
       "      <td>58.0</td>\n",
       "      <td>24.0</td>\n",
       "      <td>0.707</td>\n",
       "      <td>5.0</td>\n",
       "      <td>106.3</td>\n",
       "      <td>99.6</td>\n",
       "      <td>6.73</td>\n",
       "    </tr>\n",
       "  </tbody>\n",
       "</table>\n",
       "<p>5 rows × 42 columns</p>\n",
       "</div>"
      ],
      "text/plain": [
       "   Unnamed: 0          player pos  age   tm   g  gs    mp   fg   fga  ...  \\\n",
       "0           0      a.c. green  pf   27  lal  82  21  26.4  3.1   6.6  ...   \n",
       "1           1     byron scott  sg   29  lal  82  82  32.1  6.1  12.8  ...   \n",
       "2           2  elden campbell  pf   22  lal  52   0   7.3  1.1   2.4  ...   \n",
       "3           3   irving thomas  pf   25  lal  26   0   4.2  0.7   1.9  ...   \n",
       "4           4    james worthy  sf   29  lal  78  74  38.6  9.2  18.7  ...   \n",
       "\n",
       "   pts_max  share                team     w     l   w/l%   gb   ps/g  pa/g  \\\n",
       "0      0.0    0.0  los angeles lakers  58.0  24.0  0.707  5.0  106.3  99.6   \n",
       "1      0.0    0.0  los angeles lakers  58.0  24.0  0.707  5.0  106.3  99.6   \n",
       "2      0.0    0.0  los angeles lakers  58.0  24.0  0.707  5.0  106.3  99.6   \n",
       "3      0.0    0.0  los angeles lakers  58.0  24.0  0.707  5.0  106.3  99.6   \n",
       "4      0.0    0.0  los angeles lakers  58.0  24.0  0.707  5.0  106.3  99.6   \n",
       "\n",
       "    srs  \n",
       "0  6.73  \n",
       "1  6.73  \n",
       "2  6.73  \n",
       "3  6.73  \n",
       "4  6.73  \n",
       "\n",
       "[5 rows x 42 columns]"
      ]
     },
     "execution_count": 2,
     "metadata": {},
     "output_type": "execute_result"
    }
   ],
   "source": [
    "df = pd.read_csv('player_mvp_stats.csv')\n",
    "df.head()"
   ]
  },
  {
   "cell_type": "code",
   "execution_count": 3,
   "id": "70569d37",
   "metadata": {},
   "outputs": [],
   "source": [
    "df = df.fillna(0)\n",
    "del df['Unnamed: 0']"
   ]
  },
  {
   "cell_type": "code",
   "execution_count": 4,
   "id": "16d4baf4",
   "metadata": {},
   "outputs": [],
   "source": [
    "predictors = ['age', 'g', 'gs', 'mp', 'fg', 'fga', 'fg%', '3p',\n",
    "       '3pa', '3p%', '2p', '2pa', '2p%', 'efg%', 'ft', 'fta', 'ft%', 'orb',\n",
    "       'drb', 'trb', 'ast', 'stl', 'blk', 'tov', 'pf', 'pts', 'year', 'w', 'l', 'w/l%', 'gb', 'ps/g',\n",
    "       'pa/g', 'srs']"
   ]
  },
  {
   "cell_type": "code",
   "execution_count": 5,
   "id": "f0aa323c",
   "metadata": {},
   "outputs": [
    {
     "data": {
      "text/html": [
       "<style>#sk-container-id-1 {color: black;background-color: white;}#sk-container-id-1 pre{padding: 0;}#sk-container-id-1 div.sk-toggleable {background-color: white;}#sk-container-id-1 label.sk-toggleable__label {cursor: pointer;display: block;width: 100%;margin-bottom: 0;padding: 0.3em;box-sizing: border-box;text-align: center;}#sk-container-id-1 label.sk-toggleable__label-arrow:before {content: \"▸\";float: left;margin-right: 0.25em;color: #696969;}#sk-container-id-1 label.sk-toggleable__label-arrow:hover:before {color: black;}#sk-container-id-1 div.sk-estimator:hover label.sk-toggleable__label-arrow:before {color: black;}#sk-container-id-1 div.sk-toggleable__content {max-height: 0;max-width: 0;overflow: hidden;text-align: left;background-color: #f0f8ff;}#sk-container-id-1 div.sk-toggleable__content pre {margin: 0.2em;color: black;border-radius: 0.25em;background-color: #f0f8ff;}#sk-container-id-1 input.sk-toggleable__control:checked~div.sk-toggleable__content {max-height: 200px;max-width: 100%;overflow: auto;}#sk-container-id-1 input.sk-toggleable__control:checked~label.sk-toggleable__label-arrow:before {content: \"▾\";}#sk-container-id-1 div.sk-estimator input.sk-toggleable__control:checked~label.sk-toggleable__label {background-color: #d4ebff;}#sk-container-id-1 div.sk-label input.sk-toggleable__control:checked~label.sk-toggleable__label {background-color: #d4ebff;}#sk-container-id-1 input.sk-hidden--visually {border: 0;clip: rect(1px 1px 1px 1px);clip: rect(1px, 1px, 1px, 1px);height: 1px;margin: -1px;overflow: hidden;padding: 0;position: absolute;width: 1px;}#sk-container-id-1 div.sk-estimator {font-family: monospace;background-color: #f0f8ff;border: 1px dotted black;border-radius: 0.25em;box-sizing: border-box;margin-bottom: 0.5em;}#sk-container-id-1 div.sk-estimator:hover {background-color: #d4ebff;}#sk-container-id-1 div.sk-parallel-item::after {content: \"\";width: 100%;border-bottom: 1px solid gray;flex-grow: 1;}#sk-container-id-1 div.sk-label:hover label.sk-toggleable__label {background-color: #d4ebff;}#sk-container-id-1 div.sk-serial::before {content: \"\";position: absolute;border-left: 1px solid gray;box-sizing: border-box;top: 0;bottom: 0;left: 50%;z-index: 0;}#sk-container-id-1 div.sk-serial {display: flex;flex-direction: column;align-items: center;background-color: white;padding-right: 0.2em;padding-left: 0.2em;position: relative;}#sk-container-id-1 div.sk-item {position: relative;z-index: 1;}#sk-container-id-1 div.sk-parallel {display: flex;align-items: stretch;justify-content: center;background-color: white;position: relative;}#sk-container-id-1 div.sk-item::before, #sk-container-id-1 div.sk-parallel-item::before {content: \"\";position: absolute;border-left: 1px solid gray;box-sizing: border-box;top: 0;bottom: 0;left: 50%;z-index: -1;}#sk-container-id-1 div.sk-parallel-item {display: flex;flex-direction: column;z-index: 1;position: relative;background-color: white;}#sk-container-id-1 div.sk-parallel-item:first-child::after {align-self: flex-end;width: 50%;}#sk-container-id-1 div.sk-parallel-item:last-child::after {align-self: flex-start;width: 50%;}#sk-container-id-1 div.sk-parallel-item:only-child::after {width: 0;}#sk-container-id-1 div.sk-dashed-wrapped {border: 1px dashed gray;margin: 0 0.4em 0.5em 0.4em;box-sizing: border-box;padding-bottom: 0.4em;background-color: white;}#sk-container-id-1 div.sk-label label {font-family: monospace;font-weight: bold;display: inline-block;line-height: 1.2em;}#sk-container-id-1 div.sk-label-container {text-align: center;}#sk-container-id-1 div.sk-container {/* jupyter's `normalize.less` sets `[hidden] { display: none; }` but bootstrap.min.css set `[hidden] { display: none !important; }` so we also need the `!important` here to be able to override the default hidden behavior on the sphinx rendered scikit-learn.org. See: https://github.com/scikit-learn/scikit-learn/issues/21755 */display: inline-block !important;position: relative;}#sk-container-id-1 div.sk-text-repr-fallback {display: none;}</style><div id=\"sk-container-id-1\" class=\"sk-top-container\"><div class=\"sk-text-repr-fallback\"><pre>Ridge(alpha=0.1)</pre><b>In a Jupyter environment, please rerun this cell to show the HTML representation or trust the notebook. <br />On GitHub, the HTML representation is unable to render, please try loading this page with nbviewer.org.</b></div><div class=\"sk-container\" hidden><div class=\"sk-item\"><div class=\"sk-estimator sk-toggleable\"><input class=\"sk-toggleable__control sk-hidden--visually\" id=\"sk-estimator-id-1\" type=\"checkbox\" checked><label for=\"sk-estimator-id-1\" class=\"sk-toggleable__label sk-toggleable__label-arrow\">Ridge</label><div class=\"sk-toggleable__content\"><pre>Ridge(alpha=0.1)</pre></div></div></div></div></div>"
      ],
      "text/plain": [
       "Ridge(alpha=0.1)"
      ]
     },
     "execution_count": 5,
     "metadata": {},
     "output_type": "execute_result"
    }
   ],
   "source": [
    "train = df[df['year'] < 2020]\n",
    "test = df[df['year'] == 2020]\n",
    "\n",
    "rdg = Ridge(alpha=.1)\n",
    "rdg.fit(train[predictors], train['share'])"
   ]
  },
  {
   "cell_type": "code",
   "execution_count": 6,
   "id": "5acc6c93",
   "metadata": {},
   "outputs": [],
   "source": [
    "predictions = rdg.predict(test[predictors])\n",
    "\n",
    "predictions = pd.DataFrame(predictions, columns=['predictions'], index=test.index)"
   ]
  },
  {
   "cell_type": "code",
   "execution_count": 7,
   "id": "cbdebedc",
   "metadata": {
    "collapsed": true
   },
   "outputs": [
    {
     "data": {
      "text/html": [
       "<div>\n",
       "<style scoped>\n",
       "    .dataframe tbody tr th:only-of-type {\n",
       "        vertical-align: middle;\n",
       "    }\n",
       "\n",
       "    .dataframe tbody tr th {\n",
       "        vertical-align: top;\n",
       "    }\n",
       "\n",
       "    .dataframe thead th {\n",
       "        text-align: right;\n",
       "    }\n",
       "</style>\n",
       "<table border=\"1\" class=\"dataframe\">\n",
       "  <thead>\n",
       "    <tr style=\"text-align: right;\">\n",
       "      <th></th>\n",
       "      <th>predictions</th>\n",
       "    </tr>\n",
       "  </thead>\n",
       "  <tbody>\n",
       "    <tr>\n",
       "      <th>596</th>\n",
       "      <td>0.019887</td>\n",
       "    </tr>\n",
       "    <tr>\n",
       "      <th>597</th>\n",
       "      <td>-0.028127</td>\n",
       "    </tr>\n",
       "    <tr>\n",
       "      <th>598</th>\n",
       "      <td>-0.014142</td>\n",
       "    </tr>\n",
       "    <tr>\n",
       "      <th>599</th>\n",
       "      <td>0.008575</td>\n",
       "    </tr>\n",
       "    <tr>\n",
       "      <th>600</th>\n",
       "      <td>0.029770</td>\n",
       "    </tr>\n",
       "    <tr>\n",
       "      <th>...</th>\n",
       "      <td>...</td>\n",
       "    </tr>\n",
       "    <tr>\n",
       "      <th>12627</th>\n",
       "      <td>0.004633</td>\n",
       "    </tr>\n",
       "    <tr>\n",
       "      <th>12628</th>\n",
       "      <td>0.038976</td>\n",
       "    </tr>\n",
       "    <tr>\n",
       "      <th>12629</th>\n",
       "      <td>0.007462</td>\n",
       "    </tr>\n",
       "    <tr>\n",
       "      <th>12630</th>\n",
       "      <td>0.009776</td>\n",
       "    </tr>\n",
       "    <tr>\n",
       "      <th>12631</th>\n",
       "      <td>0.009653</td>\n",
       "    </tr>\n",
       "  </tbody>\n",
       "</table>\n",
       "<p>528 rows × 1 columns</p>\n",
       "</div>"
      ],
      "text/plain": [
       "       predictions\n",
       "596       0.019887\n",
       "597      -0.028127\n",
       "598      -0.014142\n",
       "599       0.008575\n",
       "600       0.029770\n",
       "...            ...\n",
       "12627     0.004633\n",
       "12628     0.038976\n",
       "12629     0.007462\n",
       "12630     0.009776\n",
       "12631     0.009653\n",
       "\n",
       "[528 rows x 1 columns]"
      ]
     },
     "execution_count": 7,
     "metadata": {},
     "output_type": "execute_result"
    }
   ],
   "source": [
    "predictions"
   ]
  },
  {
   "cell_type": "code",
   "execution_count": 14,
   "id": "92256fb7",
   "metadata": {},
   "outputs": [],
   "source": [
    "combination = pd.concat([test[['player', 'share', 'year']], predictions], axis=1)\n",
    "combination = combination.sort_values('share', ascending=False)\n",
    "combination['rk'] = list(range(1, len(combination) + 1))"
   ]
  },
  {
   "cell_type": "code",
   "execution_count": 16,
   "id": "53f3d338",
   "metadata": {},
   "outputs": [],
   "source": [
    "combination = combination.sort_values('predictions', ascending=False)\n",
    "combination['predicted_rk'] = list(range(1, len(combination) + 1))"
   ]
  },
  {
   "cell_type": "code",
   "execution_count": 19,
   "id": "aa782e99",
   "metadata": {},
   "outputs": [
    {
     "data": {
      "text/plain": [
       "0.0503376846609708"
      ]
     },
     "execution_count": 19,
     "metadata": {},
     "output_type": "execute_result"
    }
   ],
   "source": [
    "np.sqrt(mean_squared_error(combination['share'], combination['predictions']))"
   ]
  },
  {
   "cell_type": "code",
   "execution_count": 9,
   "id": "250ed4a7",
   "metadata": {},
   "outputs": [
    {
     "data": {
      "text/plain": [
       "0.0025338824970273345"
      ]
     },
     "execution_count": 9,
     "metadata": {},
     "output_type": "execute_result"
    }
   ],
   "source": [
    "mean_squared_error(combination['share'], combination['predictions'])"
   ]
  },
  {
   "cell_type": "code",
   "execution_count": 17,
   "id": "159ffdd9",
   "metadata": {
    "collapsed": true
   },
   "outputs": [
    {
     "data": {
      "text/html": [
       "<div>\n",
       "<style scoped>\n",
       "    .dataframe tbody tr th:only-of-type {\n",
       "        vertical-align: middle;\n",
       "    }\n",
       "\n",
       "    .dataframe tbody tr th {\n",
       "        vertical-align: top;\n",
       "    }\n",
       "\n",
       "    .dataframe thead th {\n",
       "        text-align: right;\n",
       "    }\n",
       "</style>\n",
       "<table border=\"1\" class=\"dataframe\">\n",
       "  <thead>\n",
       "    <tr style=\"text-align: right;\">\n",
       "      <th></th>\n",
       "      <th>player</th>\n",
       "      <th>share</th>\n",
       "      <th>year</th>\n",
       "      <th>predictions</th>\n",
       "      <th>rk</th>\n",
       "      <th>predicted_rk</th>\n",
       "    </tr>\n",
       "  </thead>\n",
       "  <tbody>\n",
       "    <tr>\n",
       "      <th>11857</th>\n",
       "      <td>giannis antetokounmpo</td>\n",
       "      <td>0.952</td>\n",
       "      <td>2020</td>\n",
       "      <td>0.241064</td>\n",
       "      <td>1</td>\n",
       "      <td>1</td>\n",
       "    </tr>\n",
       "    <tr>\n",
       "      <th>9197</th>\n",
       "      <td>james harden</td>\n",
       "      <td>0.363</td>\n",
       "      <td>2020</td>\n",
       "      <td>0.189782</td>\n",
       "      <td>3</td>\n",
       "      <td>2</td>\n",
       "    </tr>\n",
       "    <tr>\n",
       "      <th>8763</th>\n",
       "      <td>luka dončić</td>\n",
       "      <td>0.198</td>\n",
       "      <td>2020</td>\n",
       "      <td>0.170165</td>\n",
       "      <td>4</td>\n",
       "      <td>3</td>\n",
       "    </tr>\n",
       "    <tr>\n",
       "      <th>3462</th>\n",
       "      <td>lebron james</td>\n",
       "      <td>0.746</td>\n",
       "      <td>2020</td>\n",
       "      <td>0.161245</td>\n",
       "      <td>2</td>\n",
       "      <td>4</td>\n",
       "    </tr>\n",
       "    <tr>\n",
       "      <th>3450</th>\n",
       "      <td>anthony davis</td>\n",
       "      <td>0.081</td>\n",
       "      <td>2020</td>\n",
       "      <td>0.146607</td>\n",
       "      <td>6</td>\n",
       "      <td>5</td>\n",
       "    </tr>\n",
       "    <tr>\n",
       "      <th>...</th>\n",
       "      <td>...</td>\n",
       "      <td>...</td>\n",
       "      <td>...</td>\n",
       "      <td>...</td>\n",
       "      <td>...</td>\n",
       "      <td>...</td>\n",
       "    </tr>\n",
       "    <tr>\n",
       "      <th>3865</th>\n",
       "      <td>darius garland</td>\n",
       "      <td>0.000</td>\n",
       "      <td>2020</td>\n",
       "      <td>-0.046235</td>\n",
       "      <td>487</td>\n",
       "      <td>524</td>\n",
       "    </tr>\n",
       "    <tr>\n",
       "      <th>9201</th>\n",
       "      <td>p.j. tucker</td>\n",
       "      <td>0.000</td>\n",
       "      <td>2020</td>\n",
       "      <td>-0.050043</td>\n",
       "      <td>33</td>\n",
       "      <td>525</td>\n",
       "    </tr>\n",
       "    <tr>\n",
       "      <th>1261</th>\n",
       "      <td>terrance ferguson</td>\n",
       "      <td>0.000</td>\n",
       "      <td>2020</td>\n",
       "      <td>-0.054012</td>\n",
       "      <td>381</td>\n",
       "      <td>526</td>\n",
       "    </tr>\n",
       "    <tr>\n",
       "      <th>7075</th>\n",
       "      <td>zach collins</td>\n",
       "      <td>0.000</td>\n",
       "      <td>2020</td>\n",
       "      <td>-0.059261</td>\n",
       "      <td>442</td>\n",
       "      <td>527</td>\n",
       "    </tr>\n",
       "    <tr>\n",
       "      <th>4982</th>\n",
       "      <td>josh gray</td>\n",
       "      <td>0.000</td>\n",
       "      <td>2020</td>\n",
       "      <td>-0.069432</td>\n",
       "      <td>501</td>\n",
       "      <td>528</td>\n",
       "    </tr>\n",
       "  </tbody>\n",
       "</table>\n",
       "<p>528 rows × 6 columns</p>\n",
       "</div>"
      ],
      "text/plain": [
       "                      player  share  year  predictions   rk  predicted_rk\n",
       "11857  giannis antetokounmpo  0.952  2020     0.241064    1             1\n",
       "9197            james harden  0.363  2020     0.189782    3             2\n",
       "8763             luka dončić  0.198  2020     0.170165    4             3\n",
       "3462            lebron james  0.746  2020     0.161245    2             4\n",
       "3450           anthony davis  0.081  2020     0.146607    6             5\n",
       "...                      ...    ...   ...          ...  ...           ...\n",
       "3865          darius garland  0.000  2020    -0.046235  487           524\n",
       "9201             p.j. tucker  0.000  2020    -0.050043   33           525\n",
       "1261       terrance ferguson  0.000  2020    -0.054012  381           526\n",
       "7075            zach collins  0.000  2020    -0.059261  442           527\n",
       "4982               josh gray  0.000  2020    -0.069432  501           528\n",
       "\n",
       "[528 rows x 6 columns]"
      ]
     },
     "execution_count": 17,
     "metadata": {},
     "output_type": "execute_result"
    }
   ],
   "source": [
    "combination"
   ]
  },
  {
   "cell_type": "code",
   "execution_count": 18,
   "id": "8a79705a",
   "metadata": {},
   "outputs": [],
   "source": [
    "def find_ap(df):\n",
    "    actual = combination.sort_values('share', ascending=False).head(5)\n",
    "    predicted = combination.sort_values('predictions', ascending=False)\n",
    "    ps = []\n",
    "    found = 0\n",
    "    seen = 1\n",
    "    \n",
    "    for index, row in predicted.iterrows():\n",
    "        if row['player'] in actual['player'].values:\n",
    "            found += 1\n",
    "            ps.append(found/seen)\n",
    "        seen += 1\n",
    "    return sum(ps) / len(ps)"
   ]
  },
  {
   "cell_type": "code",
   "execution_count": 19,
   "id": "d4162feb",
   "metadata": {},
   "outputs": [
    {
     "data": {
      "text/plain": [
       "0.9428571428571428"
      ]
     },
     "execution_count": 19,
     "metadata": {},
     "output_type": "execute_result"
    }
   ],
   "source": [
    "find_ap(combination)"
   ]
  },
  {
   "cell_type": "code",
   "execution_count": 20,
   "id": "c71532f3",
   "metadata": {},
   "outputs": [],
   "source": [
    "years = list(range(1991, 2021))"
   ]
  },
  {
   "cell_type": "code",
   "execution_count": 48,
   "id": "750c915e",
   "metadata": {},
   "outputs": [],
   "source": [
    "aps = []\n",
    "all_prediction = []\n",
    "\n",
    "for year in years[5:]:\n",
    "    train = df[df['year'] < year ]\n",
    "    test = df[df['year'] == year]\n",
    "    rdg.fit(train[predictors], train['share'])\n",
    "    y_pred = rdg.predict(test[predictors])\n",
    "    y_pred = pd.DataFrame(y_pred, columns=['predictions'], index=test.index)\n",
    "    combination = pd.concat([test[['player', 'share', 'year']], y_pred], axis=1)\n",
    "    all_prediction.append(combination)\n",
    "    aps.append(find_ap(combination))"
   ]
  },
  {
   "cell_type": "code",
   "execution_count": 49,
   "id": "49149901",
   "metadata": {},
   "outputs": [
    {
     "data": {
      "text/plain": [
       "0.7110422205931348"
      ]
     },
     "execution_count": 49,
     "metadata": {},
     "output_type": "execute_result"
    }
   ],
   "source": [
    "sum(aps) / len(aps)"
   ]
  },
  {
   "cell_type": "code",
   "execution_count": 50,
   "id": "67d53a25",
   "metadata": {},
   "outputs": [
    {
     "data": {
      "text/html": [
       "<div>\n",
       "<style scoped>\n",
       "    .dataframe tbody tr th:only-of-type {\n",
       "        vertical-align: middle;\n",
       "    }\n",
       "\n",
       "    .dataframe tbody tr th {\n",
       "        vertical-align: top;\n",
       "    }\n",
       "\n",
       "    .dataframe thead th {\n",
       "        text-align: right;\n",
       "    }\n",
       "</style>\n",
       "<table border=\"1\" class=\"dataframe\">\n",
       "  <thead>\n",
       "    <tr style=\"text-align: right;\">\n",
       "      <th></th>\n",
       "      <th>player</th>\n",
       "      <th>share</th>\n",
       "      <th>year</th>\n",
       "      <th>predictions</th>\n",
       "    </tr>\n",
       "  </thead>\n",
       "  <tbody>\n",
       "    <tr>\n",
       "      <th>596</th>\n",
       "      <td>aaron gordon</td>\n",
       "      <td>0.0</td>\n",
       "      <td>2020</td>\n",
       "      <td>0.019887</td>\n",
       "    </tr>\n",
       "    <tr>\n",
       "      <th>597</th>\n",
       "      <td>al-farouq aminu</td>\n",
       "      <td>0.0</td>\n",
       "      <td>2020</td>\n",
       "      <td>-0.028127</td>\n",
       "    </tr>\n",
       "    <tr>\n",
       "      <th>598</th>\n",
       "      <td>b.j. johnson</td>\n",
       "      <td>0.0</td>\n",
       "      <td>2020</td>\n",
       "      <td>-0.014142</td>\n",
       "    </tr>\n",
       "    <tr>\n",
       "      <th>599</th>\n",
       "      <td>d.j. augustin</td>\n",
       "      <td>0.0</td>\n",
       "      <td>2020</td>\n",
       "      <td>0.008575</td>\n",
       "    </tr>\n",
       "    <tr>\n",
       "      <th>600</th>\n",
       "      <td>evan fournier</td>\n",
       "      <td>0.0</td>\n",
       "      <td>2020</td>\n",
       "      <td>0.029770</td>\n",
       "    </tr>\n",
       "    <tr>\n",
       "      <th>...</th>\n",
       "      <td>...</td>\n",
       "      <td>...</td>\n",
       "      <td>...</td>\n",
       "      <td>...</td>\n",
       "    </tr>\n",
       "    <tr>\n",
       "      <th>12627</th>\n",
       "      <td>rondae hollis-jefferson</td>\n",
       "      <td>0.0</td>\n",
       "      <td>2020</td>\n",
       "      <td>0.004633</td>\n",
       "    </tr>\n",
       "    <tr>\n",
       "      <th>12628</th>\n",
       "      <td>serge ibaka</td>\n",
       "      <td>0.0</td>\n",
       "      <td>2020</td>\n",
       "      <td>0.038976</td>\n",
       "    </tr>\n",
       "    <tr>\n",
       "      <th>12629</th>\n",
       "      <td>shamorie ponds</td>\n",
       "      <td>0.0</td>\n",
       "      <td>2020</td>\n",
       "      <td>0.007462</td>\n",
       "    </tr>\n",
       "    <tr>\n",
       "      <th>12630</th>\n",
       "      <td>stanley johnson</td>\n",
       "      <td>0.0</td>\n",
       "      <td>2020</td>\n",
       "      <td>0.009776</td>\n",
       "    </tr>\n",
       "    <tr>\n",
       "      <th>12631</th>\n",
       "      <td>terence davis</td>\n",
       "      <td>0.0</td>\n",
       "      <td>2020</td>\n",
       "      <td>0.009653</td>\n",
       "    </tr>\n",
       "  </tbody>\n",
       "</table>\n",
       "<p>528 rows × 4 columns</p>\n",
       "</div>"
      ],
      "text/plain": [
       "                        player  share  year  predictions\n",
       "596               aaron gordon    0.0  2020     0.019887\n",
       "597            al-farouq aminu    0.0  2020    -0.028127\n",
       "598               b.j. johnson    0.0  2020    -0.014142\n",
       "599              d.j. augustin    0.0  2020     0.008575\n",
       "600              evan fournier    0.0  2020     0.029770\n",
       "...                        ...    ...   ...          ...\n",
       "12627  rondae hollis-jefferson    0.0  2020     0.004633\n",
       "12628              serge ibaka    0.0  2020     0.038976\n",
       "12629           shamorie ponds    0.0  2020     0.007462\n",
       "12630          stanley johnson    0.0  2020     0.009776\n",
       "12631            terence davis    0.0  2020     0.009653\n",
       "\n",
       "[528 rows x 4 columns]"
      ]
     },
     "execution_count": 50,
     "metadata": {},
     "output_type": "execute_result"
    }
   ],
   "source": [
    "combination "
   ]
  },
  {
   "cell_type": "code",
   "execution_count": 45,
   "id": "46bcace6",
   "metadata": {
    "collapsed": true
   },
   "outputs": [
    {
     "data": {
      "text/plain": [
       "[0.39584675975653416,\n",
       " 0.7733333333333333,\n",
       " 0.386993006993007,\n",
       " 0.8392857142857142,\n",
       " 0.9266666666666665,\n",
       " 0.6815270935960591,\n",
       " 0.9666666666666666,\n",
       " 0.6928571428571428,\n",
       " 0.5644444444444445,\n",
       " 0.4003208556149732,\n",
       " 0.6676190476190477,\n",
       " 0.9428571428571428,\n",
       " 0.75,\n",
       " 0.8253968253968254,\n",
       " 0.7253968253968253,\n",
       " 0.4323717948717949,\n",
       " 0.6976190476190476,\n",
       " 0.6327838827838828,\n",
       " 0.9266666666666665,\n",
       " 0.8333333333333333,\n",
       " 0.7611111111111111,\n",
       " 0.7909090909090909,\n",
       " 0.6375757575757576,\n",
       " 0.9428571428571428]"
      ]
     },
     "execution_count": 45,
     "metadata": {},
     "output_type": "execute_result"
    }
   ],
   "source": [
    "aps"
   ]
  },
  {
   "cell_type": "code",
   "execution_count": 36,
   "id": "ba265c8f",
   "metadata": {},
   "outputs": [],
   "source": [
    "def add_rank(combination):\n",
    "    combination = combination.sort_values('predictions', ascending=False)\n",
    "    combination['predicted_rk'] = list(range(1, len(combination) + 1))\n",
    "    combination = combination.sort_values('share', ascending=False)\n",
    "    combination['rk'] = list(range(1, len(combination) + 1))\n",
    "    combination['diff'] = combination['rk'] - combination['predicted_rk']\n",
    "    return combination"
   ]
  },
  {
   "cell_type": "code",
   "execution_count": 47,
   "id": "bb6c021f",
   "metadata": {},
   "outputs": [
    {
     "data": {
      "text/html": [
       "<div>\n",
       "<style scoped>\n",
       "    .dataframe tbody tr th:only-of-type {\n",
       "        vertical-align: middle;\n",
       "    }\n",
       "\n",
       "    .dataframe tbody tr th {\n",
       "        vertical-align: top;\n",
       "    }\n",
       "\n",
       "    .dataframe thead th {\n",
       "        text-align: right;\n",
       "    }\n",
       "</style>\n",
       "<table border=\"1\" class=\"dataframe\">\n",
       "  <thead>\n",
       "    <tr style=\"text-align: right;\">\n",
       "      <th></th>\n",
       "      <th>player</th>\n",
       "      <th>share</th>\n",
       "      <th>predictions</th>\n",
       "      <th>predicted_rk</th>\n",
       "      <th>rk</th>\n",
       "      <th>diff</th>\n",
       "    </tr>\n",
       "  </thead>\n",
       "  <tbody>\n",
       "    <tr>\n",
       "      <th>1475</th>\n",
       "      <td>karl malone</td>\n",
       "      <td>0.857</td>\n",
       "      <td>0.195454</td>\n",
       "      <td>2</td>\n",
       "      <td>1</td>\n",
       "      <td>-1</td>\n",
       "    </tr>\n",
       "    <tr>\n",
       "      <th>10041</th>\n",
       "      <td>michael jordan</td>\n",
       "      <td>0.832</td>\n",
       "      <td>0.172254</td>\n",
       "      <td>3</td>\n",
       "      <td>2</td>\n",
       "      <td>-1</td>\n",
       "    </tr>\n",
       "    <tr>\n",
       "      <th>851</th>\n",
       "      <td>grant hill</td>\n",
       "      <td>0.327</td>\n",
       "      <td>0.130560</td>\n",
       "      <td>6</td>\n",
       "      <td>3</td>\n",
       "      <td>-3</td>\n",
       "    </tr>\n",
       "    <tr>\n",
       "      <th>4379</th>\n",
       "      <td>tim hardaway</td>\n",
       "      <td>0.207</td>\n",
       "      <td>0.060021</td>\n",
       "      <td>19</td>\n",
       "      <td>4</td>\n",
       "      <td>-15</td>\n",
       "    </tr>\n",
       "    <tr>\n",
       "      <th>7496</th>\n",
       "      <td>glen rice</td>\n",
       "      <td>0.117</td>\n",
       "      <td>0.035304</td>\n",
       "      <td>49</td>\n",
       "      <td>5</td>\n",
       "      <td>-44</td>\n",
       "    </tr>\n",
       "  </tbody>\n",
       "</table>\n",
       "</div>"
      ],
      "text/plain": [
       "               player  share  predictions  predicted_rk  rk  diff\n",
       "1475      karl malone  0.857     0.195454             2   1    -1\n",
       "10041  michael jordan  0.832     0.172254             3   2    -1\n",
       "851        grant hill  0.327     0.130560             6   3    -3\n",
       "4379     tim hardaway  0.207     0.060021            19   4   -15\n",
       "7496        glen rice  0.117     0.035304            49   5   -44"
      ]
     },
     "execution_count": 47,
     "metadata": {},
     "output_type": "execute_result"
    }
   ],
   "source": [
    "ranking = add_rank(all_prediction[1])\n",
    "ranking[ranking['rk'] < 6].sort_values('diff', ascending=False)"
   ]
  },
  {
   "cell_type": "code",
   "execution_count": 145,
   "id": "be53acf3",
   "metadata": {},
   "outputs": [],
   "source": [
    "def backtest(df, model, year, predictors):\n",
    "    aps = []\n",
    "    all_predictions = []\n",
    "\n",
    "    for year in years[5:]:\n",
    "        train = df[df['year'] < year ]\n",
    "        test = df[df['year'] == year]\n",
    "        model.fit(train[predictors], train['share'])\n",
    "        y_pred = model.predict(test[predictors])\n",
    "        y_pred = pd.DataFrame(y_pred, columns=['predictions'], index=test.index)\n",
    "        new_df = pd.concat([test[['player', 'share']], y_pred], axis=1)\n",
    "        new_df = add_rank(new_df)\n",
    "        all_predictions.append(new_df)\n",
    "        aps.append(find_ap(new_df))\n",
    "        \n",
    "    return sum(aps)/len(aps), aps, pd.concat(all_prediction)\n",
    "#     return pd.concat(all_predictions)"
   ]
  },
  {
   "cell_type": "code",
   "execution_count": 150,
   "id": "f9ee0640",
   "metadata": {},
   "outputs": [],
   "source": [
    "mean_ap, aps, all_pred = backtest(df, rdg, years[5:], predictors)"
   ]
  },
  {
   "cell_type": "code",
   "execution_count": 152,
   "id": "afabdebc",
   "metadata": {},
   "outputs": [
    {
     "data": {
      "text/plain": [
       "[0.9428571428571428,\n",
       " 0.9428571428571428,\n",
       " 0.9428571428571428,\n",
       " 0.9428571428571428,\n",
       " 0.9428571428571428,\n",
       " 0.9428571428571428,\n",
       " 0.9428571428571428,\n",
       " 0.9428571428571428,\n",
       " 0.9428571428571428,\n",
       " 0.9428571428571428,\n",
       " 0.9428571428571428,\n",
       " 0.9428571428571428,\n",
       " 0.9428571428571428,\n",
       " 0.9428571428571428,\n",
       " 0.9428571428571428,\n",
       " 0.9428571428571428,\n",
       " 0.9428571428571428,\n",
       " 0.9428571428571428,\n",
       " 0.9428571428571428,\n",
       " 0.9428571428571428,\n",
       " 0.9428571428571428,\n",
       " 0.9428571428571428,\n",
       " 0.9428571428571428,\n",
       " 0.9428571428571428,\n",
       " 0.9428571428571428]"
      ]
     },
     "execution_count": 152,
     "metadata": {},
     "output_type": "execute_result"
    }
   ],
   "source": [
    "aps"
   ]
  },
  {
   "cell_type": "code",
   "execution_count": 172,
   "id": "696e4465",
   "metadata": {},
   "outputs": [],
   "source": [
    "def backtest(df, model, year, predictors):\n",
    "    aps = []\n",
    "    all_prediction = []\n",
    "\n",
    "    for year in years[5:]:\n",
    "        train = df[df['year'] < year ]\n",
    "        test = df[df['year'] == year]\n",
    "        rdg.fit(train[predictors], train['share'])\n",
    "        y_pred = rdg.predict(test[predictors])\n",
    "        y_pred = pd.DataFrame(y_pred, columns=['predictions'], index=test.index)\n",
    "        combination = pd.concat([test[['player', 'share']], y_pred], axis=1)\n",
    "        all_prediction.append(combination)\n",
    "        aps.append(find_ap(combination))\n",
    "\n",
    "#     return sum(aps)/len(aps), aps, pd.concat(all_prediction)\n",
    "    return train"
   ]
  },
  {
   "cell_type": "code",
   "execution_count": 173,
   "id": "1ba5f0c8",
   "metadata": {
    "scrolled": false
   },
   "outputs": [],
   "source": [
    "aps = backtest(df, rdg, years[5:], predictors)"
   ]
  },
  {
   "cell_type": "code",
   "execution_count": 176,
   "id": "197e9f5e",
   "metadata": {},
   "outputs": [
    {
     "data": {
      "text/plain": [
       "array([1991, 1992, 1993, 1994, 1995, 1996, 1997, 1998, 1999, 2000, 2001,\n",
       "       2002, 2003, 2017, 2010, 2011, 2012, 2013, 2014, 2015, 2008, 2009,\n",
       "       2016, 2018, 2019, 2004, 2005, 2006, 2007], dtype=int64)"
      ]
     },
     "execution_count": 176,
     "metadata": {},
     "output_type": "execute_result"
    }
   ],
   "source": [
    "aps['year'].unique()"
   ]
  },
  {
   "cell_type": "code",
   "execution_count": 157,
   "id": "9ea7f726",
   "metadata": {},
   "outputs": [],
   "source": [
    "aps = []\n",
    "all_prediction = []\n",
    "\n",
    "for year in years[5:]:\n",
    "    train = df[df['year'] < year ]\n",
    "    test = df[df['year'] == year]\n",
    "    rdg.fit(train[predictors], train['share'])\n",
    "    y_pred = rdg.predict(test[predictors])\n",
    "    y_pred = pd.DataFrame(y_pred, columns=['predictions'], index=test.index)\n",
    "    combination = pd.concat([test[['player', 'share']], y_pred], axis=1)\n",
    "    all_prediction.append(combination)\n",
    "    aps.append(find_ap(combination))"
   ]
  },
  {
   "cell_type": "code",
   "execution_count": 138,
   "id": "fa08aae8",
   "metadata": {},
   "outputs": [
    {
     "data": {
      "text/plain": [
       "0.7110422205931348"
      ]
     },
     "execution_count": 138,
     "metadata": {},
     "output_type": "execute_result"
    }
   ],
   "source": [
    "sum(aps)/len(aps)"
   ]
  },
  {
   "cell_type": "code",
   "execution_count": null,
   "id": "9842ec2a",
   "metadata": {},
   "outputs": [],
   "source": []
  }
 ],
 "metadata": {
  "kernelspec": {
   "display_name": "Python 3 (ipykernel)",
   "language": "python",
   "name": "python3"
  },
  "language_info": {
   "codemirror_mode": {
    "name": "ipython",
    "version": 3
   },
   "file_extension": ".py",
   "mimetype": "text/x-python",
   "name": "python",
   "nbconvert_exporter": "python",
   "pygments_lexer": "ipython3",
   "version": "3.9.6"
  }
 },
 "nbformat": 4,
 "nbformat_minor": 5
}
